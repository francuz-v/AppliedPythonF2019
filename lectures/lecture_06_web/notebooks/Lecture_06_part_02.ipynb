{
 "cells": [
  {
   "cell_type": "markdown",
   "metadata": {},
   "source": [
    "# Маршрутизация запросов (роутинг)"
   ]
  },
  {
   "cell_type": "code",
   "execution_count": null,
   "metadata": {},
   "outputs": [],
   "source": [
    "from flask import Flask\n",
    "from flask import request\n",
    "app = Flask(__name__)\n",
    "\n",
    "@app.route(\"/\")\n",
    "def hello():\n",
    "    return \"Hello World!\"\n",
    "\n",
    "@app.route(\"/check\")\n",
    "def check():\n",
    "    id_val = request.args.get('id_val')\n",
    "    return \"Vera : \" + str(id_val)\n",
    "\n",
    "@app.route(\"/callme\")\n",
    "def callme():\n",
    "    return {\"myhost\":, \"myport\":5000}\n",
    "\n",
    "app.run(host='0.0.0.0')\n"
   ]
  },
  {
   "cell_type": "code",
   "execution_count": null,
   "metadata": {},
   "outputs": [],
   "source": [
    "import requests\n",
    "res = requests.get('http://0.0.0.0:5000')\n",
    "res.status_code"
   ]
  },
  {
   "cell_type": "code",
   "execution_count": null,
   "metadata": {},
   "outputs": [],
   "source": [
    "from flask import Flask\n",
    "\n",
    "app = Flask(__name__)\n",
    "\n",
    "# export FLASK_ENV=development\n",
    "# export FLASK_APP=server.py\n",
    "# flask run --host=127.0.0.1\n",
    "\n",
    "\n",
    "@app.route('/user_info/<user_id>/')\n",
    "def user_info_handler(user_id):\n",
    "    return f'user_info_handler: str:{isinstance(user_id, str)} -> {user_id}'\n",
    "\n",
    "\n",
    "@app.route('/user_info_int/<int:user_id>/')\n",
    "def user_info_int_handler(user_id):\n",
    "    return f'user_info_int_handler: int:{isinstance(user_id, int)} -> {user_id}'\n",
    "\n",
    "\n",
    "@app.route('/user_info_two/<int:user_id1>/<int:user_id2>/')\n",
    "def user_info_two_handler(user_id1, user_id2):\n",
    "    return f\"user_info_two_handler: {','.join(map(str, (user_id1, user_id2)))}\"\n",
    "\n",
    "app.run()"
   ]
  },
  {
   "cell_type": "markdown",
   "metadata": {},
   "source": [
    "# Журналирование"
   ]
  },
  {
   "cell_type": "code",
   "execution_count": 1,
   "metadata": {},
   "outputs": [],
   "source": [
    "# Конфигурация журналирования\n",
    "LOGGING = {\n",
    "    'version': 1,\n",
    "    'formatters': {  # Форматирование сообщения\n",
    "        'simple': {\n",
    "            'format': '[%(asctime)s] %(levelname)s %(module)s %(message)s',\n",
    "            'datefmt': '%Y-%m-%d %H:%M:%S'\n",
    "        },\n",
    "    },\n",
    "\n",
    "    'handlers': {  # Обработчикаи сообщений\n",
    "        'api_log_handler': {\n",
    "            'class': 'logging.FileHandler',\n",
    "            'filename': '/tmp/api_log.text',\n",
    "        },\n",
    "        'streamlogger': {\n",
    "            'class': 'logging.StreamHandler',\n",
    "            'formatter': 'simple',\n",
    "        },\n",
    "    },\n",
    "\n",
    "    'loggers': {   # Логгеры\n",
    "        'api_logger': {\n",
    "            'handlers': ['api_log_handler', 'streamlogger'],\n",
    "            'level': 'INFO',\n",
    "        },\n",
    "        'debug_logger': {\n",
    "            'handlers': ['streamlogger'],\n",
    "            'level': 'DEBUG',\n",
    "        },\n",
    "    },\n",
    "}\n",
    "\n",
    "\n",
    "\n",
    "import logging.config\n",
    "logging.config.dictConfig(LOGGING)"
   ]
  },
  {
   "cell_type": "code",
   "execution_count": null,
   "metadata": {},
   "outputs": [],
   "source": []
  },
  {
   "cell_type": "code",
   "execution_count": 2,
   "metadata": {},
   "outputs": [
    {
     "name": "stderr",
     "output_type": "stream",
     "text": [
      "[2019-10-21 20:26:04] INFO <ipython-input-2-f892667cc17d> api_logger: info message\n",
      "[2019-10-21 20:26:04] INFO <ipython-input-2-f892667cc17d> debug_logger: info message\n",
      "[2019-10-21 20:26:04] DEBUG <ipython-input-2-f892667cc17d> debug_logger: debug message\n"
     ]
    }
   ],
   "source": [
    "# Использование логгеров\n",
    "import logging\n",
    "\n",
    "api_logger = logging.getLogger('api_logger')\n",
    "api_logger.info('api_logger: info message')\n",
    "api_logger.debug('api_logger: debug message')\n",
    "\n",
    "debbug_logger = logging.getLogger('debug_logger')\n",
    "debbug_logger.info('debug_logger: info message')\n",
    "debbug_logger.debug('debug_logger: debug message')"
   ]
  },
  {
   "cell_type": "code",
   "execution_count": null,
   "metadata": {},
   "outputs": [],
   "source": [
    "# Передача контекстных параметров\n",
    "\n",
    "class CustomAdapter(logging.LoggerAdapter):\n",
    "    \"\"\"\n",
    "    This example adapter expects the passed in dict-like object to have a\n",
    "    'connid' key, whose value in brackets is prepended to the log message.\n",
    "    \"\"\"\n",
    "    def process(self, msg, kwargs):\n",
    "        return '[quid=%s] %s' % (self.extra['quid'], msg), kwargs"
   ]
  },
  {
   "cell_type": "code",
   "execution_count": null,
   "metadata": {},
   "outputs": [],
   "source": [
    "logger = logging.getLogger('api_logger')\n",
    "\n",
    "quid = '123214465745'\n",
    "adapter = CustomAdapter(logger, {'quid': quid})\n",
    "\n",
    "adapter.info(\"Request complete\")"
   ]
  },
  {
   "cell_type": "markdown",
   "metadata": {},
   "source": [
    "# Пример проекта Flask"
   ]
  },
  {
   "cell_type": "code",
   "execution_count": null,
   "metadata": {},
   "outputs": [],
   "source": [
    "# server_p2.py"
   ]
  },
  {
   "cell_type": "markdown",
   "metadata": {},
   "source": [
    "# Работа со временем"
   ]
  },
  {
   "cell_type": "code",
   "execution_count": null,
   "metadata": {},
   "outputs": [],
   "source": [
    "import time\n",
    "\n",
    "tt = time.time()\n",
    "time.sleep(10)\n",
    "time.time() - tt"
   ]
  },
  {
   "cell_type": "code",
   "execution_count": null,
   "metadata": {},
   "outputs": [],
   "source": [
    "# timestamp\n",
    "tt"
   ]
  },
  {
   "cell_type": "code",
   "execution_count": null,
   "metadata": {},
   "outputs": [],
   "source": [
    "tp = time.perf_counter()\n",
    "time.sleep(10)\n",
    "time.perf_counter() - tp"
   ]
  },
  {
   "cell_type": "code",
   "execution_count": null,
   "metadata": {},
   "outputs": [],
   "source": [
    "tp"
   ]
  },
  {
   "cell_type": "code",
   "execution_count": null,
   "metadata": {},
   "outputs": [],
   "source": [
    "import ipdb; ipdb.set_trace()"
   ]
  }
 ],
 "metadata": {
  "kernelspec": {
   "display_name": "Python 3",
   "language": "python",
   "name": "python3"
  },
  "language_info": {
   "codemirror_mode": {
    "name": "ipython",
    "version": 3
   },
   "file_extension": ".py",
   "mimetype": "text/x-python",
   "name": "python",
   "nbconvert_exporter": "python",
   "pygments_lexer": "ipython3",
   "version": "3.7.3"
  }
 },
 "nbformat": 4,
 "nbformat_minor": 4
}
