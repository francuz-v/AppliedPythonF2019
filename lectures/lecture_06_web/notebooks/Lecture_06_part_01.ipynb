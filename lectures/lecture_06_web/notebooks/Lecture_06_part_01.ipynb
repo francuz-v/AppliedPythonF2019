{
 "cells": [
  {
   "cell_type": "markdown",
   "metadata": {},
   "source": [
    "```sh\n",
    "# Установка python3.7\n",
    "sudo apt update\n",
    "sudo add-apt-repository ppa:deadsnakes/ppa\n",
    "sudo apt install python3.7\n",
    "\n",
    "# Установка виртуального окружения\n",
    "sudo apt-get install python3.7-venv\n",
    "python3.7 -m venv ~/.virtualenvs/atomPython\n",
    "source ~/.virtualenvs/atomPython/bin/activate\n",
    "\n",
    "# Если уже устанавливали\n",
    "source ~/.virtualenvs/atomPython/bin/activate\n",
    "\n",
    "# Установка пакетов\n",
    "pip install -r requirements_web.txt\n",
    "ipython kernel install --user --name=atom\n",
    "```"
   ]
  },
  {
   "cell_type": "code",
   "execution_count": 1,
   "metadata": {
    "jupyter": {
     "outputs_hidden": false
    }
   },
   "outputs": [],
   "source": [
    "import requests"
   ]
  },
  {
   "cell_type": "code",
   "execution_count": null,
   "metadata": {},
   "outputs": [],
   "source": [
    "#TODO отправим запрос на локальный сервер"
   ]
  },
  {
   "cell_type": "code",
   "execution_count": null,
   "metadata": {},
   "outputs": [],
   "source": [
    "#TODO отправим запрос на локальный сервер по пути /, /goodbye, /smth"
   ]
  }
 ],
 "metadata": {
  "anaconda-cloud": {},
  "kernelspec": {
   "display_name": "Python 3",
   "language": "python",
   "name": "python3"
  },
  "language_info": {
   "codemirror_mode": {
    "name": "ipython",
    "version": 3
   },
   "file_extension": ".py",
   "mimetype": "text/x-python",
   "name": "python",
   "nbconvert_exporter": "python",
   "pygments_lexer": "ipython3",
   "version": "3.7.3"
  }
 },
 "nbformat": 4,
 "nbformat_minor": 4
}
